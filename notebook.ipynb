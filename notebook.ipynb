{
 "cells": [
  {
   "cell_type": "code",
   "execution_count": 1,
   "metadata": {},
   "outputs": [],
   "source": [
    "\n",
    "import pandas as pd \n",
    "import numpy as np\n",
    "import warnings\n",
    "warnings.filterwarnings('ignore')\n"
   ]
  },
  {
   "cell_type": "code",
   "execution_count": 2,
   "metadata": {},
   "outputs": [],
   "source": [
    "data = pd.read_csv('data.csv',)\n"
   ]
  },
  {
   "cell_type": "code",
   "execution_count": 3,
   "metadata": {},
   "outputs": [
    {
     "data": {
      "text/html": [
       "<div>\n",
       "<style scoped>\n",
       "    .dataframe tbody tr th:only-of-type {\n",
       "        vertical-align: middle;\n",
       "    }\n",
       "\n",
       "    .dataframe tbody tr th {\n",
       "        vertical-align: top;\n",
       "    }\n",
       "\n",
       "    .dataframe thead th {\n",
       "        text-align: right;\n",
       "    }\n",
       "</style>\n",
       "<table border=\"1\" class=\"dataframe\">\n",
       "  <thead>\n",
       "    <tr style=\"text-align: right;\">\n",
       "      <th></th>\n",
       "      <th>Domain Code</th>\n",
       "      <th>Domain</th>\n",
       "      <th>Area Code</th>\n",
       "      <th>Area</th>\n",
       "      <th>Element Code</th>\n",
       "      <th>Element</th>\n",
       "      <th>Item Code</th>\n",
       "      <th>Item</th>\n",
       "      <th>Year Code</th>\n",
       "      <th>Year</th>\n",
       "      <th>Unit</th>\n",
       "      <th>Value</th>\n",
       "      <th>Flag</th>\n",
       "      <th>Flag Description</th>\n",
       "      <th>Note</th>\n",
       "    </tr>\n",
       "  </thead>\n",
       "  <tbody>\n",
       "    <tr>\n",
       "      <th>0</th>\n",
       "      <td>TP</td>\n",
       "      <td>Crops and livestock products</td>\n",
       "      <td>5000</td>\n",
       "      <td>World</td>\n",
       "      <td>5610</td>\n",
       "      <td>Import Quantity</td>\n",
       "      <td>486</td>\n",
       "      <td>Bananas</td>\n",
       "      <td>1961</td>\n",
       "      <td>1961</td>\n",
       "      <td>tonnes</td>\n",
       "      <td>3926173</td>\n",
       "      <td>A</td>\n",
       "      <td>Aggregate, may include official, semi-official...</td>\n",
       "      <td>NaN</td>\n",
       "    </tr>\n",
       "    <tr>\n",
       "      <th>1</th>\n",
       "      <td>TP</td>\n",
       "      <td>Crops and livestock products</td>\n",
       "      <td>5000</td>\n",
       "      <td>World</td>\n",
       "      <td>5610</td>\n",
       "      <td>Import Quantity</td>\n",
       "      <td>486</td>\n",
       "      <td>Bananas</td>\n",
       "      <td>1962</td>\n",
       "      <td>1962</td>\n",
       "      <td>tonnes</td>\n",
       "      <td>3708481</td>\n",
       "      <td>A</td>\n",
       "      <td>Aggregate, may include official, semi-official...</td>\n",
       "      <td>NaN</td>\n",
       "    </tr>\n",
       "    <tr>\n",
       "      <th>2</th>\n",
       "      <td>TP</td>\n",
       "      <td>Crops and livestock products</td>\n",
       "      <td>5000</td>\n",
       "      <td>World</td>\n",
       "      <td>5610</td>\n",
       "      <td>Import Quantity</td>\n",
       "      <td>486</td>\n",
       "      <td>Bananas</td>\n",
       "      <td>1963</td>\n",
       "      <td>1963</td>\n",
       "      <td>tonnes</td>\n",
       "      <td>3941869</td>\n",
       "      <td>A</td>\n",
       "      <td>Aggregate, may include official, semi-official...</td>\n",
       "      <td>NaN</td>\n",
       "    </tr>\n",
       "    <tr>\n",
       "      <th>3</th>\n",
       "      <td>TP</td>\n",
       "      <td>Crops and livestock products</td>\n",
       "      <td>5000</td>\n",
       "      <td>World</td>\n",
       "      <td>5610</td>\n",
       "      <td>Import Quantity</td>\n",
       "      <td>486</td>\n",
       "      <td>Bananas</td>\n",
       "      <td>1964</td>\n",
       "      <td>1964</td>\n",
       "      <td>tonnes</td>\n",
       "      <td>4080361</td>\n",
       "      <td>A</td>\n",
       "      <td>Aggregate, may include official, semi-official...</td>\n",
       "      <td>NaN</td>\n",
       "    </tr>\n",
       "    <tr>\n",
       "      <th>4</th>\n",
       "      <td>TP</td>\n",
       "      <td>Crops and livestock products</td>\n",
       "      <td>5000</td>\n",
       "      <td>World</td>\n",
       "      <td>5610</td>\n",
       "      <td>Import Quantity</td>\n",
       "      <td>486</td>\n",
       "      <td>Bananas</td>\n",
       "      <td>1965</td>\n",
       "      <td>1965</td>\n",
       "      <td>tonnes</td>\n",
       "      <td>4681252</td>\n",
       "      <td>A</td>\n",
       "      <td>Aggregate, may include official, semi-official...</td>\n",
       "      <td>NaN</td>\n",
       "    </tr>\n",
       "  </tbody>\n",
       "</table>\n",
       "</div>"
      ],
      "text/plain": [
       "  Domain Code                        Domain  Area Code   Area  Element Code  \\\n",
       "0          TP  Crops and livestock products       5000  World          5610   \n",
       "1          TP  Crops and livestock products       5000  World          5610   \n",
       "2          TP  Crops and livestock products       5000  World          5610   \n",
       "3          TP  Crops and livestock products       5000  World          5610   \n",
       "4          TP  Crops and livestock products       5000  World          5610   \n",
       "\n",
       "           Element  Item Code     Item  Year Code  Year    Unit    Value Flag  \\\n",
       "0  Import Quantity        486  Bananas       1961  1961  tonnes  3926173    A   \n",
       "1  Import Quantity        486  Bananas       1962  1962  tonnes  3708481    A   \n",
       "2  Import Quantity        486  Bananas       1963  1963  tonnes  3941869    A   \n",
       "3  Import Quantity        486  Bananas       1964  1964  tonnes  4080361    A   \n",
       "4  Import Quantity        486  Bananas       1965  1965  tonnes  4681252    A   \n",
       "\n",
       "                                    Flag Description  Note  \n",
       "0  Aggregate, may include official, semi-official...   NaN  \n",
       "1  Aggregate, may include official, semi-official...   NaN  \n",
       "2  Aggregate, may include official, semi-official...   NaN  \n",
       "3  Aggregate, may include official, semi-official...   NaN  \n",
       "4  Aggregate, may include official, semi-official...   NaN  "
      ]
     },
     "execution_count": 3,
     "metadata": {},
     "output_type": "execute_result"
    }
   ],
   "source": [
    "data.head()"
   ]
  },
  {
   "cell_type": "code",
   "execution_count": 4,
   "metadata": {},
   "outputs": [],
   "source": [
    "data = data.drop(['Domain Code','Domain','Area Code','Area','Element Code','Unit','Element','Item Code','Year Code','Flag','Flag Description','Note'],axis=1)"
   ]
  },
  {
   "cell_type": "code",
   "execution_count": 5,
   "metadata": {},
   "outputs": [
    {
     "data": {
      "text/html": [
       "<div>\n",
       "<style scoped>\n",
       "    .dataframe tbody tr th:only-of-type {\n",
       "        vertical-align: middle;\n",
       "    }\n",
       "\n",
       "    .dataframe tbody tr th {\n",
       "        vertical-align: top;\n",
       "    }\n",
       "\n",
       "    .dataframe thead th {\n",
       "        text-align: right;\n",
       "    }\n",
       "</style>\n",
       "<table border=\"1\" class=\"dataframe\">\n",
       "  <thead>\n",
       "    <tr style=\"text-align: right;\">\n",
       "      <th></th>\n",
       "      <th>Item</th>\n",
       "      <th>Year</th>\n",
       "      <th>Value</th>\n",
       "      <th>index</th>\n",
       "    </tr>\n",
       "  </thead>\n",
       "  <tbody>\n",
       "    <tr>\n",
       "      <th>0</th>\n",
       "      <td>Bananas</td>\n",
       "      <td>1961</td>\n",
       "      <td>3926173</td>\n",
       "      <td>1961</td>\n",
       "    </tr>\n",
       "    <tr>\n",
       "      <th>1</th>\n",
       "      <td>Bananas</td>\n",
       "      <td>1962</td>\n",
       "      <td>3708481</td>\n",
       "      <td>1962</td>\n",
       "    </tr>\n",
       "    <tr>\n",
       "      <th>2</th>\n",
       "      <td>Bananas</td>\n",
       "      <td>1963</td>\n",
       "      <td>3941869</td>\n",
       "      <td>1963</td>\n",
       "    </tr>\n",
       "    <tr>\n",
       "      <th>3</th>\n",
       "      <td>Bananas</td>\n",
       "      <td>1964</td>\n",
       "      <td>4080361</td>\n",
       "      <td>1964</td>\n",
       "    </tr>\n",
       "    <tr>\n",
       "      <th>4</th>\n",
       "      <td>Bananas</td>\n",
       "      <td>1965</td>\n",
       "      <td>4681252</td>\n",
       "      <td>1965</td>\n",
       "    </tr>\n",
       "  </tbody>\n",
       "</table>\n",
       "</div>"
      ],
      "text/plain": [
       "      Item  Year    Value  index\n",
       "0  Bananas  1961  3926173   1961\n",
       "1  Bananas  1962  3708481   1962\n",
       "2  Bananas  1963  3941869   1963\n",
       "3  Bananas  1964  4080361   1964\n",
       "4  Bananas  1965  4681252   1965"
      ]
     },
     "execution_count": 5,
     "metadata": {},
     "output_type": "execute_result"
    }
   ],
   "source": [
    "data['index'] = data['Year']\n",
    "data.head()"
   ]
  },
  {
   "cell_type": "code",
   "execution_count": 6,
   "metadata": {},
   "outputs": [],
   "source": [
    "data = data.set_index('Item')\n",
    "bananas =  data.drop(['Cotton lint','Cottonseed','Rubber, natural','Oil, palm','Coffee, green','Cocoa, beans'],axis=0).set_index(['index'])\n",
    "cottonlint =  data.drop(['Bananas','Cottonseed','Rubber, natural','Oil, palm','Coffee, green','Cocoa, beans'],axis=0).set_index(['index'])\n",
    "cottonseed =  data.drop(['Cotton lint','Bananas','Rubber, natural','Oil, palm','Coffee, green','Cocoa, beans'],axis=0).set_index(['index'])\n",
    "rubber = data.drop(['Cotton lint','Cottonseed','Bananas','Oil, palm','Coffee, green','Cocoa, beans'],axis=0).set_index(['index'])\n",
    "palmoil = data.drop(['Cotton lint','Cottonseed','Rubber, natural','Bananas','Coffee, green','Cocoa, beans'],axis=0).set_index(['index'])\n",
    "greencoffee =  data.drop(['Cotton lint','Cottonseed','Rubber, natural','Oil, palm','Bananas','Cocoa, beans'],axis=0).set_index(['index'])\n",
    "cocoabeans = data.drop(['Cotton lint','Cottonseed','Rubber, natural','Oil, palm','Coffee, green','Bananas'],axis=0).set_index(['index'])\n"
   ]
  },
  {
   "cell_type": "code",
   "execution_count": 7,
   "metadata": {},
   "outputs": [
    {
     "data": {
      "text/html": [
       "<div>\n",
       "<style scoped>\n",
       "    .dataframe tbody tr th:only-of-type {\n",
       "        vertical-align: middle;\n",
       "    }\n",
       "\n",
       "    .dataframe tbody tr th {\n",
       "        vertical-align: top;\n",
       "    }\n",
       "\n",
       "    .dataframe thead th {\n",
       "        text-align: right;\n",
       "    }\n",
       "</style>\n",
       "<table border=\"1\" class=\"dataframe\">\n",
       "  <thead>\n",
       "    <tr style=\"text-align: right;\">\n",
       "      <th></th>\n",
       "      <th>Year</th>\n",
       "      <th>Value</th>\n",
       "    </tr>\n",
       "    <tr>\n",
       "      <th>index</th>\n",
       "      <th></th>\n",
       "      <th></th>\n",
       "    </tr>\n",
       "  </thead>\n",
       "  <tbody>\n",
       "    <tr>\n",
       "      <th>1961</th>\n",
       "      <td>1961</td>\n",
       "      <td>3926173</td>\n",
       "    </tr>\n",
       "    <tr>\n",
       "      <th>1962</th>\n",
       "      <td>1962</td>\n",
       "      <td>3708481</td>\n",
       "    </tr>\n",
       "    <tr>\n",
       "      <th>1963</th>\n",
       "      <td>1963</td>\n",
       "      <td>3941869</td>\n",
       "    </tr>\n",
       "    <tr>\n",
       "      <th>1964</th>\n",
       "      <td>1964</td>\n",
       "      <td>4080361</td>\n",
       "    </tr>\n",
       "    <tr>\n",
       "      <th>1965</th>\n",
       "      <td>1965</td>\n",
       "      <td>4681252</td>\n",
       "    </tr>\n",
       "  </tbody>\n",
       "</table>\n",
       "</div>"
      ],
      "text/plain": [
       "       Year    Value\n",
       "index               \n",
       "1961   1961  3926173\n",
       "1962   1962  3708481\n",
       "1963   1963  3941869\n",
       "1964   1964  4080361\n",
       "1965   1965  4681252"
      ]
     },
     "execution_count": 7,
     "metadata": {},
     "output_type": "execute_result"
    }
   ],
   "source": [
    "bananas.head()"
   ]
  },
  {
   "cell_type": "code",
   "execution_count": 8,
   "metadata": {},
   "outputs": [
    {
     "name": "stdout",
     "output_type": "stream",
     "text": [
      "Statictics for Bananas : \n",
      "Mean =  10669866.50877193 \n",
      "Variance =  29214672996438.332 \n",
      "Std =  5405059.9438339565 \n",
      "Median =  8103230.0\n"
     ]
    }
   ],
   "source": [
    "mean_bananas = bananas['Value'].mean()\n",
    "var_bananas = bananas['Value'].var()\n",
    "std_bananas = bananas['Value'].std()\n",
    "med_bananas = bananas['Value'].median()\n",
    "print('Statictics for Bananas : \\nMean = ',mean_bananas,'\\nVariance = ',var_bananas,'\\nStd = ',std_bananas,'\\nMedian = ',med_bananas)"
   ]
  },
  {
   "cell_type": "code",
   "execution_count": 9,
   "metadata": {},
   "outputs": [
    {
     "name": "stdout",
     "output_type": "stream",
     "text": [
      "Statictics for Cottonlint : \n",
      "Mean =  5532234.807017544 \n",
      "Variance =  2610601337159.1953 \n",
      "Std =  1615735.5406003778 \n",
      "Median =  5098727.0\n"
     ]
    }
   ],
   "source": [
    "mean_cottonlint = cottonlint['Value'].mean()\n",
    "var_cottonlint = cottonlint['Value'].var()\n",
    "std_cottonlint = cottonlint['Value'].std()\n",
    "med_cottonlint = cottonlint['Value'].median()\n",
    "print('Statictics for Cottonlint : \\nMean = ',mean_cottonlint,'\\nVariance = ',var_cottonlint,'\\nStd = ',std_cottonlint,'\\nMedian = ',med_cottonlint)"
   ]
  },
  {
   "cell_type": "code",
   "execution_count": 10,
   "metadata": {},
   "outputs": [
    {
     "name": "stdout",
     "output_type": "stream",
     "text": [
      "Statictics for Cottonseed : \n",
      "Mean =  638027.6140350878 \n",
      "Variance =  161408507803.3841 \n",
      "Std =  401756.7769227846 \n",
      "Median =  472805.0\n"
     ]
    }
   ],
   "source": [
    "mean_cottonseed = cottonseed['Value'].mean()\n",
    "var_cottonseed = cottonseed['Value'].var()\n",
    "std_cottonseed = cottonseed['Value'].std()\n",
    "med_cottonseed = cottonseed['Value'].median()\n",
    "print('Statictics for Cottonseed : \\nMean = ',mean_cottonseed,'\\nVariance = ',var_cottonseed,'\\nStd = ',std_cottonseed,'\\nMedian = ',med_cottonseed)"
   ]
  },
  {
   "cell_type": "code",
   "execution_count": 11,
   "metadata": {},
   "outputs": [
    {
     "name": "stdout",
     "output_type": "stream",
     "text": [
      "Statictics for Rubber : \n",
      "Mean =  544799.7368421053 \n",
      "Variance =  151737374560.5902 \n",
      "Std =  389534.81816211273 \n",
      "Median =  346425.0\n"
     ]
    }
   ],
   "source": [
    "mean_rubber = rubber['Value'].mean()\n",
    "var_rubber = rubber['Value'].var()\n",
    "std_rubber = rubber['Value'].std()\n",
    "med_rubber = rubber['Value'].median()\n",
    "print('Statictics for Rubber : \\nMean = ',mean_rubber,'\\nVariance = ',var_rubber,'\\nStd = ',std_rubber,'\\nMedian = ',med_rubber)"
   ]
  },
  {
   "cell_type": "code",
   "execution_count": 12,
   "metadata": {},
   "outputs": [
    {
     "name": "stdout",
     "output_type": "stream",
     "text": [
      "Statictics for Palmoil : \n",
      "Mean =  12922510.45614035 \n",
      "Variance =  212388396440799.0 \n",
      "Std =  14573551.26387522 \n",
      "Median =  6647650.0\n"
     ]
    }
   ],
   "source": [
    "mean_palmoil = palmoil['Value'].mean()\n",
    "var_palmoil = palmoil['Value'].var()\n",
    "std_palmoil = palmoil['Value'].std()\n",
    "med_palmoil = palmoil['Value'].median()\n",
    "print('Statictics for Palmoil : \\nMean = ',mean_palmoil,'\\nVariance = ',var_palmoil,'\\nStd = ',std_palmoil,'\\nMedian = ',med_palmoil)"
   ]
  },
  {
   "cell_type": "code",
   "execution_count": 13,
   "metadata": {},
   "outputs": [
    {
     "name": "stdout",
     "output_type": "stream",
     "text": [
      "Statictics for Greencoffee : \n",
      "Mean =  4544794.631578947 \n",
      "Variance =  1593349062364.7727 \n",
      "Std =  1262279.3123412791 \n",
      "Median =  4426946.0\n"
     ]
    }
   ],
   "source": [
    "\n",
    "mean_greencoffee = greencoffee['Value'].mean() \n",
    "var_greencoffee = greencoffee['Value'].var()\n",
    "std_greencoffee = greencoffee['Value'].std()\n",
    "med_greencoffee = greencoffee['Value'].median()\n",
    "print('Statictics for Greencoffee : \\nMean = ',mean_greencoffee,'\\nVariance = ',var_greencoffee,'\\nStd = ',std_greencoffee,'\\nMedian = ',med_greencoffee)"
   ]
  },
  {
   "cell_type": "code",
   "execution_count": 14,
   "metadata": {},
   "outputs": [
    {
     "name": "stdout",
     "output_type": "stream",
     "text": [
      "Statictics for Cocoabeans : \n",
      "Mean =  1908896.6315789474 \n",
      "Variance =  694263004455.0225 \n",
      "Std =  833224.4622279296 \n",
      "Median =  1659994.0\n"
     ]
    }
   ],
   "source": [
    "mean_cocoabeans = cocoabeans['Value'].mean()\n",
    "var_cocoabeans = cocoabeans['Value'].var()\n",
    "std_cocoabeans = cocoabeans['Value'].std()\n",
    "med_cocoabeans = cocoabeans['Value'].median()\n",
    "print('Statictics for Cocoabeans : \\nMean = ',mean_cocoabeans,'\\nVariance = ',var_cocoabeans,'\\nStd = ',std_cocoabeans,'\\nMedian = ',med_cocoabeans)"
   ]
  },
  {
   "cell_type": "code",
   "execution_count": 15,
   "metadata": {},
   "outputs": [
    {
     "data": {
      "text/plain": [
       "<matplotlib.axes._subplots.AxesSubplot at 0x1980bd67b08>"
      ]
     },
     "execution_count": 15,
     "metadata": {},
     "output_type": "execute_result"
    },
    {
     "data": {
      "image/png": "[encoded data removed]",
      "text/plain": [
       "<Figure size 1440x720 with 1 Axes>"
      ]
     },
     "metadata": {
      "needs_background": "light"
     },
     "output_type": "display_data"
    }
   ],
   "source": [
    "import matplotlib.pyplot as plt\n",
    "%matplotlib inline\n",
    "\n",
    "plt.xlabel('Year')\n",
    "plt.ylabel('Values')\n",
    "\n",
    "bananas['Value'].plot.bar(figsize=(20,10))\n",
    "\n",
    "\n"
   ]
  },
  {
   "cell_type": "code",
   "execution_count": 16,
   "metadata": {},
   "outputs": [
    {
     "data": {
      "text/plain": [
       "<matplotlib.axes._subplots.AxesSubplot at 0x1981071ec08>"
      ]
     },
     "execution_count": 16,
     "metadata": {},
     "output_type": "execute_result"
    },
    {
     "data": {
      "image/png": "[encoded data removed]",
      "text/plain": [
       "<Figure size 1440x720 with 1 Axes>"
      ]
     },
     "metadata": {
      "needs_background": "light"
     },
     "output_type": "display_data"
    }
   ],
   "source": [
    "cottonlint['Value'].plot.bar(figsize=(20,10))"
   ]
  },
  {
   "cell_type": "code",
   "execution_count": 17,
   "metadata": {},
   "outputs": [
    {
     "data": {
      "text/plain": [
       "<matplotlib.axes._subplots.AxesSubplot at 0x19810455b88>"
      ]
     },
     "execution_count": 17,
     "metadata": {},
     "output_type": "execute_result"
    },
    {
     "data": {
      "image/png": "[encoded data removed]",
      "text/plain": [
       "<Figure size 1440x720 with 1 Axes>"
      ]
     },
     "metadata": {
      "needs_background": "light"
     },
     "output_type": "display_data"
    }
   ],
   "source": [
    "cottonseed['Value'].plot.bar(figsize=(20,10))"
   ]
  },
  {
   "cell_type": "code",
   "execution_count": 18,
   "metadata": {},
   "outputs": [
    {
     "data": {
      "text/plain": [
       "<matplotlib.axes._subplots.AxesSubplot at 0x198105a7b08>"
      ]
     },
     "execution_count": 18,
     "metadata": {},
     "output_type": "execute_result"
    },
    {
     "data": {
      "image/png": "[encoded data removed]",
      "text/plain": [
       "<Figure size 1440x720 with 1 Axes>"
      ]
     },
     "metadata": {
      "needs_background": "light"
     },
     "output_type": "display_data"
    }
   ],
   "source": [
    "rubber['Value'].plot.bar(figsize=(20,10))"
   ]
  },
  {
   "cell_type": "code",
   "execution_count": 19,
   "metadata": {},
   "outputs": [
    {
     "data": {
      "text/plain": [
       "<matplotlib.axes._subplots.AxesSubplot at 0x19810ac4488>"
      ]
     },
     "execution_count": 19,
     "metadata": {},
     "output_type": "execute_result"
    },
    {
     "data": {
      "image/png": "[encoded data removed]",
      "text/plain": [
       "<Figure size 1440x720 with 1 Axes>"
      ]
     },
     "metadata": {
      "needs_background": "light"
     },
     "output_type": "display_data"
    }
   ],
   "source": [
    "palmoil['Value'].plot.bar(figsize=(20,10))"
   ]
  },
  {
   "cell_type": "code",
   "execution_count": 20,
   "metadata": {},
   "outputs": [
    {
     "data": {
      "text/plain": [
       "<matplotlib.axes._subplots.AxesSubplot at 0x19811493388>"
      ]
     },
     "execution_count": 20,
     "metadata": {},
     "output_type": "execute_result"
    },
    {
     "data": {
      "image/png": "[encoded data removed]",
      "text/plain": [
       "<Figure size 1440x720 with 1 Axes>"
      ]
     },
     "metadata": {
      "needs_background": "light"
     },
     "output_type": "display_data"
    }
   ],
   "source": [
    "greencoffee['Value'].plot.bar(figsize=(20,10))"
   ]
  },
  {
   "cell_type": "code",
   "execution_count": 21,
   "metadata": {},
   "outputs": [
    {
     "data": {
      "text/plain": [
       "<matplotlib.axes._subplots.AxesSubplot at 0x198115ccdc8>"
      ]
     },
     "execution_count": 21,
     "metadata": {},
     "output_type": "execute_result"
    },
    {
     "data": {
      "image/png": "[encoded data removed]",
      "text/plain": [
       "<Figure size 1440x720 with 1 Axes>"
      ]
     },
     "metadata": {
      "needs_background": "light"
     },
     "output_type": "display_data"
    }
   ],
   "source": [
    "cocoabeans['Value'].plot.bar(figsize=(20,10))"
   ]
  },
  {
   "cell_type": "code",
   "execution_count": 22,
   "metadata": {},
   "outputs": [
    {
     "data": {
      "text/plain": [
       "Text(0, 0.5, 'Value')"
      ]
     },
     "execution_count": 22,
     "metadata": {},
     "output_type": "execute_result"
    },
    {
     "data": {
      "image/png": "[encoded data removed]",
      "text/plain": [
       "<Figure size 432x288 with 1 Axes>"
      ]
     },
     "metadata": {
      "needs_background": "light"
     },
     "output_type": "display_data"
    }
   ],
   "source": [
    "bananas['Value'].plot(label=\"bananas\")\n",
    "cottonlint['Value'].plot(linewidth = 1.5,color = 'green',label=\"cottonlint\")\n",
    "cottonseed['Value'].plot(linewidth = 1.5,color = 'red',label=\"cottonseed\")\n",
    "rubber['Value'].plot(linewidth = 1.5,color = 'yellow',label=\"rubber\")\n",
    "palmoil['Value'].plot(linewidth = 1.5,color = 'black',label=\"palmoil\")\n",
    "greencoffee['Value'].plot(linewidth = 1.5,color = 'orange',label=\"greencoffee\")\n",
    "cocoabeans['Value'].plot(linewidth = 1.5,color = 'pink',label=\"cocoabeans\")\n",
    "\n",
    "plt.legend(loc=2,ncol=2)\n",
    "plt.title(\"Plot of various products\")\n",
    "plt.xlabel('Year')\n",
    "plt.ylabel('Value')"
   ]
  },
  {
   "cell_type": "code",
   "execution_count": 23,
   "metadata": {},
   "outputs": [
    {
     "data": {
      "text/plain": [
       "<matplotlib.axes._subplots.AxesSubplot at 0x1981181cac8>"
      ]
     },
     "execution_count": 23,
     "metadata": {},
     "output_type": "execute_result"
    },
    {
     "data": {
      "image/png": "[encoded data removed]",
      "text/plain": [
       "<Figure size 432x288 with 1 Axes>"
      ]
     },
     "metadata": {
      "needs_background": "light"
     },
     "output_type": "display_data"
    }
   ],
   "source": [
    "plt.xlabel('Value')\n",
    "plt.ylabel('Year(1961+..)')\n",
    "plt.title('CDF plot')\n",
    "bananas['Value'].hist(normed=0,histtype='step',cumulative=True,linewidth = 1.5,bins=100)\n",
    "cottonlint['Value'].hist(normed=0,histtype='step',cumulative=True,linewidth = 1.5,bins=100,color = 'green')\n",
    "cottonseed['Value'].hist(normed=0,histtype='step',cumulative=True,linewidth = 1.5,bins=100,color = 'red')\n",
    "rubber['Value'].hist(normed=0,histtype='step',cumulative=True,linewidth = 1.5,bins=100,color = 'yellow')\n",
    "palmoil['Value'].hist(normed=0,histtype='step',cumulative=True,linewidth = 1.5,bins=100,color = 'black')\n",
    "greencoffee['Value'].hist(normed=0,histtype='step',cumulative=True,linewidth = 1.5,bins=100,color = 'orange')\n",
    "cocoabeans['Value'].hist(normed=0,histtype='step',cumulative=True,linewidth = 1.5,bins=100,color = 'pink')"
   ]
  },
  {
   "cell_type": "code",
   "execution_count": 24,
   "metadata": {},
   "outputs": [
    {
     "name": "stdout",
     "output_type": "stream",
     "text": [
      "Skewness of Bananas :  0.4826943012561717\n",
      "Skewness of Cottonlint :  0.8794655954069979\n",
      "Skewness of Cottonseed :  0.8794655954069979\n",
      "Skewness of Rubber :  0.6477600536389256\n",
      "Skewness of Palmoil :  1.10836551320573\n",
      "Skewness of Greencoffee :  0.49635061952368853\n",
      "Skewness of Cocoabeans :  0.6142985499271862\n"
     ]
    }
   ],
   "source": [
    "def skewness(x) :\n",
    "    res = 0 \n",
    "    m = x.mean()\n",
    "    s = x.std()\n",
    "    for i in x :\n",
    "        res += (i-m) * (i-m) * (i-m)\n",
    "    res /= (len(x) * s * s * s)\n",
    "    return res\n",
    "\n",
    "print(\"Skewness of Bananas : \",skewness(bananas['Value']))\n",
    "print(\"Skewness of Cottonlint : \",skewness(cottonlint['Value']))\n",
    "print(\"Skewness of Cottonseed : \",skewness(cottonlint['Value']))\n",
    "print(\"Skewness of Rubber : \",skewness(rubber['Value']))\n",
    "print(\"Skewness of Palmoil : \",skewness(palmoil['Value']))\n",
    "print(\"Skewness of Greencoffee : \",skewness(greencoffee['Value']))\n",
    "print(\"Skewness of Cocoabeans : \",skewness(cocoabeans['Value']))"
   ]
  },
  {
   "cell_type": "code",
   "execution_count": 25,
   "metadata": {},
   "outputs": [
    {
     "name": "stdout",
     "output_type": "stream",
     "text": [
      "Pearson coefficient of Bananas :  41618472551834.97\n",
      "Pearson coefficient of Cottonlint :  2101301912777.9285\n",
      "Pearson coefficient of Cottonseed :  199137914668.48227\n",
      "Pearson coefficient of Rubber :  231821601131.23935\n",
      "Pearson coefficient of Palmoil :  274341001593674.53\n",
      "Pearson coefficient of Greencoffee :  446273668889.5035\n",
      "Pearson coefficient of Cocoabeans :  622175284033.4548\n"
     ]
    }
   ],
   "source": [
    "def pearson(x) :\n",
    "    return 3*(x.mean() - x.median())*x.std()\n",
    "\n",
    "print(\"Pearson coefficient of Bananas : \",pearson(bananas['Value']))\n",
    "print(\"Pearson coefficient of Cottonlint : \",pearson(cottonlint['Value']))\n",
    "print(\"Pearson coefficient of Cottonseed : \",pearson(cottonseed['Value']))\n",
    "print(\"Pearson coefficient of Rubber : \",pearson(rubber['Value']))\n",
    "print(\"Pearson coefficient of Palmoil : \",pearson(palmoil['Value']))\n",
    "print(\"Pearson coefficient of Greencoffee : \",pearson(greencoffee['Value']))\n",
    "print(\"Pearson coefficient of Cocoabeans : \",pearson(cocoabeans['Value']))"
   ]
  },
  {
   "cell_type": "code",
   "execution_count": 26,
   "metadata": {},
   "outputs": [],
   "source": [
    "#b for bananas\n",
    "b_X = bananas.iloc[:, 0:1].values"
   ]
  },
  {
   "cell_type": "code",
   "execution_count": 27,
   "metadata": {},
   "outputs": [],
   "source": [
    "b_y = bananas.iloc[:, 1:].values"
   ]
  },
  {
   "cell_type": "code",
   "execution_count": 28,
   "metadata": {},
   "outputs": [],
   "source": [
    "# Splitting the dataset into the Training set and Test set\n",
    "from sklearn.model_selection import train_test_split \n",
    "from sklearn.linear_model import LinearRegression\n",
    "from sklearn.metrics import mean_squared_error, r2_score\n",
    "from sklearn.pipeline import make_pipeline\n",
    "from sklearn.preprocessing import PolynomialFeatures\n",
    "\n",
    "b_X_train, b_X_test, b_y_train, b_y_test = train_test_split(b_X, b_y, test_size=0.175, random_state=0)"
   ]
  },
  {
   "cell_type": "code",
   "execution_count": 29,
   "metadata": {
    "scrolled": true
   },
   "outputs": [
    {
     "name": "stdout",
     "output_type": "stream",
     "text": [
      "The model performance for the training set\n",
      "-------------------------------------------\n",
      "RMSE of training set is 645858.2763031892\n",
      "R2 score of training set is 0.9847573780426592\n",
      "\n",
      "\n",
      "The model performance for the test set\n",
      "-------------------------------------------\n",
      "RMSE of test set is 1187007.1395312978\n",
      "R2 score of test set is 0.9574348675802818\n"
     ]
    }
   ],
   "source": [
    "def create_polynomial_regression_model(degree):\n",
    "  \"Creates a polynomial regression model for the given degree\"\n",
    "  \n",
    "  poly_features = PolynomialFeatures(degree=degree)\n",
    "  \n",
    "  # transforms the existing features to higher degree features.\n",
    "  X_train_poly = poly_features.fit_transform(b_X_train)\n",
    "  \n",
    "  # fit the transformed features to Linear Regression\n",
    "  poly_model = LinearRegression()\n",
    "  poly_model.fit(X_train_poly, b_y_train)\n",
    "  \n",
    "  # predicting on training data-set\n",
    "  y_train_predicted = poly_model.predict(X_train_poly)\n",
    "  \n",
    "  # predicting on test data-set\n",
    "  y_test_predict = poly_model.predict(poly_features.fit_transform(b_X_test))\n",
    "  \n",
    "  # evaluating the model on training dataset\n",
    "  rmse_train = np.sqrt(mean_squared_error(b_y_train, y_train_predicted))\n",
    "  r2_train = r2_score(b_y_train, y_train_predicted)\n",
    "  \n",
    "  # evaluating the model on test dataset\n",
    "  rmse_test = np.sqrt(mean_squared_error(b_y_test, y_test_predict))\n",
    "  r2_test = r2_score(b_y_test, y_test_predict)\n",
    "  \n",
    "  print(\"The model performance for the training set\")\n",
    "  print(\"-------------------------------------------\")\n",
    "  print(\"RMSE of training set is {}\".format(rmse_train))\n",
    "  print(\"R2 score of training set is {}\".format(r2_train))\n",
    "  \n",
    "  print(\"\\n\")\n",
    "  \n",
    "  print(\"The model performance for the test set\")\n",
    "  print(\"-------------------------------------------\")\n",
    "  print(\"RMSE of test set is {}\".format(rmse_test))\n",
    "  print(\"R2 score of test set is {}\".format(r2_test))\n",
    "    \n",
    "create_polynomial_regression_model(4)"
   ]
  },
  {
   "cell_type": "code",
   "execution_count": 30,
   "metadata": {
    "scrolled": true
   },
   "outputs": [
    {
     "data": {
      "image/png": "[encoded data removed]",
      "text/plain": [
       "<Figure size 432x288 with 1 Axes>"
      ]
     },
     "metadata": {
      "needs_background": "light"
     },
     "output_type": "display_data"
    }
   ],
   "source": [
    "poly_reg = PolynomialFeatures(degree=4)\n",
    "X_poly = poly_reg.fit_transform(b_X)\n",
    "pol_reg = LinearRegression()\n",
    "pol_reg.fit(X_poly, b_y)\n",
    "\n",
    "# Visualizing the Polymonial Regression results\n",
    "def viz_polymonial():\n",
    "    plt.scatter(b_X, b_y, color='red')\n",
    "    plt.plot(b_X, pol_reg.predict(poly_reg.fit_transform(b_X)), color='blue')\n",
    "    plt.title('Bananas (Polynomial Regression)')\n",
    "    plt.xlabel('Year')\n",
    "    plt.ylabel('Value')\n",
    "    plt.show()\n",
    "    return\n",
    "viz_polymonial()"
   ]
  },
  {
   "cell_type": "code",
   "execution_count": 31,
   "metadata": {},
   "outputs": [
    {
     "data": {
      "text/html": [
       "<div>\n",
       "<style scoped>\n",
       "    .dataframe tbody tr th:only-of-type {\n",
       "        vertical-align: middle;\n",
       "    }\n",
       "\n",
       "    .dataframe tbody tr th {\n",
       "        vertical-align: top;\n",
       "    }\n",
       "\n",
       "    .dataframe thead th {\n",
       "        text-align: right;\n",
       "    }\n",
       "</style>\n",
       "<table border=\"1\" class=\"dataframe\">\n",
       "  <thead>\n",
       "    <tr style=\"text-align: right;\">\n",
       "      <th></th>\n",
       "      <th>Year</th>\n",
       "      <th>Value</th>\n",
       "    </tr>\n",
       "  </thead>\n",
       "  <tbody>\n",
       "    <tr>\n",
       "      <th>2018</th>\n",
       "      <td>2018</td>\n",
       "      <td>2.207705e+07</td>\n",
       "    </tr>\n",
       "    <tr>\n",
       "      <th>2019</th>\n",
       "      <td>2019</td>\n",
       "      <td>2.258735e+07</td>\n",
       "    </tr>\n",
       "    <tr>\n",
       "      <th>2020</th>\n",
       "      <td>2020</td>\n",
       "      <td>2.310016e+07</td>\n",
       "    </tr>\n",
       "    <tr>\n",
       "      <th>2021</th>\n",
       "      <td>2021</td>\n",
       "      <td>2.361524e+07</td>\n",
       "    </tr>\n",
       "    <tr>\n",
       "      <th>2022</th>\n",
       "      <td>2022</td>\n",
       "      <td>2.413235e+07</td>\n",
       "    </tr>\n",
       "  </tbody>\n",
       "</table>\n",
       "</div>"
      ],
      "text/plain": [
       "      Year         Value\n",
       "2018  2018  2.207705e+07\n",
       "2019  2019  2.258735e+07\n",
       "2020  2020  2.310016e+07\n",
       "2021  2021  2.361524e+07\n",
       "2022  2022  2.413235e+07"
      ]
     },
     "execution_count": 31,
     "metadata": {},
     "output_type": "execute_result"
    }
   ],
   "source": [
    "# Predicting a new result with Polymonial Regression\n",
    "d = []\n",
    "for year in [2018,2019,2020,2021,2022] :\n",
    "    prediction = pol_reg.predict(poly_reg.fit_transform([[year]]))\n",
    "    d.append(prediction[0][0])\n",
    "dicto = {'Year':[2018,2019,2020,2021,2022],'Value':d}\n",
    "bananas_predicted = pd.DataFrame(dicto,index=[2018,2019,2020,2021,2022])\n",
    "bananas_predicted.head()\n"
   ]
  },
  {
   "cell_type": "code",
   "execution_count": 32,
   "metadata": {},
   "outputs": [],
   "source": [
    "#b for cottonlint\n",
    "b_X = cottonlint.iloc[:, 0:1].values"
   ]
  },
  {
   "cell_type": "code",
   "execution_count": 33,
   "metadata": {},
   "outputs": [],
   "source": [
    "b_y = cottonlint.iloc[:, 1:].values"
   ]
  },
  {
   "cell_type": "code",
   "execution_count": 34,
   "metadata": {},
   "outputs": [
    {
     "name": "stdout",
     "output_type": "stream",
     "text": [
      "The model performance for the training set\n",
      "-------------------------------------------\n",
      "RMSE of training set is 645858.2763031892\n",
      "R2 score of training set is 0.9847573780426592\n",
      "\n",
      "\n",
      "The model performance for the test set\n",
      "-------------------------------------------\n",
      "RMSE of test set is 1187007.1395312978\n",
      "R2 score of test set is 0.9574348675802818\n"
     ]
    }
   ],
   "source": [
    "def create_polynomial_regression_model(degree):\n",
    "  \"Creates a polynomial regression model for the given degree\"\n",
    "  \n",
    "  poly_features = PolynomialFeatures(degree=degree)\n",
    "  \n",
    "  # transforms the existing features to higher degree features.\n",
    "  X_train_poly = poly_features.fit_transform(b_X_train)\n",
    "  \n",
    "  # fit the transformed features to Linear Regression\n",
    "  poly_model = LinearRegression()\n",
    "  poly_model.fit(X_train_poly, b_y_train)\n",
    "  \n",
    "  # predicting on training data-set\n",
    "  y_train_predicted = poly_model.predict(X_train_poly)\n",
    "  \n",
    "  # predicting on test data-set\n",
    "  y_test_predict = poly_model.predict(poly_features.fit_transform(b_X_test))\n",
    "  \n",
    "  # evaluating the model on training dataset\n",
    "  rmse_train = np.sqrt(mean_squared_error(b_y_train, y_train_predicted))\n",
    "  r2_train = r2_score(b_y_train, y_train_predicted)\n",
    "  \n",
    "  # evaluating the model on test dataset\n",
    "  rmse_test = np.sqrt(mean_squared_error(b_y_test, y_test_predict))\n",
    "  r2_test = r2_score(b_y_test, y_test_predict)\n",
    "  \n",
    "  print(\"The model performance for the training set\")\n",
    "  print(\"-------------------------------------------\")\n",
    "  print(\"RMSE of training set is {}\".format(rmse_train))\n",
    "  print(\"R2 score of training set is {}\".format(r2_train))\n",
    "  \n",
    "  print(\"\\n\")\n",
    "  \n",
    "  print(\"The model performance for the test set\")\n",
    "  print(\"-------------------------------------------\")\n",
    "  print(\"RMSE of test set is {}\".format(rmse_test))\n",
    "  print(\"R2 score of test set is {}\".format(r2_test))\n",
    "    \n",
    "create_polynomial_regression_model(4)"
   ]
  },
  {
   "cell_type": "code",
   "execution_count": 35,
   "metadata": {},
   "outputs": [
    {
     "data": {
      "image/png": "[encoded data removed]",
      "text/plain": [
       "<Figure size 432x288 with 1 Axes>"
      ]
     },
     "metadata": {
      "needs_background": "light"
     },
     "output_type": "display_data"
    }
   ],
   "source": [
    "poly_reg = PolynomialFeatures(degree=4)\n",
    "X_poly = poly_reg.fit_transform(b_X)\n",
    "pol_reg = LinearRegression()\n",
    "pol_reg.fit(X_poly, b_y)\n",
    "\n",
    "# Visualizing the Polymonial Regression results\n",
    "def viz_polymonial():\n",
    "    plt.scatter(b_X, b_y, color='red')\n",
    "    plt.plot(b_X, pol_reg.predict(poly_reg.fit_transform(b_X)), color='blue')\n",
    "    plt.title('Cottonlint (Polynomial Regression)')\n",
    "    plt.xlabel('Year')\n",
    "    plt.ylabel('Value')\n",
    "    plt.show()\n",
    "    return\n",
    "viz_polymonial()"
   ]
  },
  {
   "cell_type": "code",
   "execution_count": 36,
   "metadata": {},
   "outputs": [
    {
     "data": {
      "text/html": [
       "<div>\n",
       "<style scoped>\n",
       "    .dataframe tbody tr th:only-of-type {\n",
       "        vertical-align: middle;\n",
       "    }\n",
       "\n",
       "    .dataframe tbody tr th {\n",
       "        vertical-align: top;\n",
       "    }\n",
       "\n",
       "    .dataframe thead th {\n",
       "        text-align: right;\n",
       "    }\n",
       "</style>\n",
       "<table border=\"1\" class=\"dataframe\">\n",
       "  <thead>\n",
       "    <tr style=\"text-align: right;\">\n",
       "      <th></th>\n",
       "      <th>Year</th>\n",
       "      <th>Value</th>\n",
       "    </tr>\n",
       "  </thead>\n",
       "  <tbody>\n",
       "    <tr>\n",
       "      <th>2018</th>\n",
       "      <td>2018</td>\n",
       "      <td>8.275708e+06</td>\n",
       "    </tr>\n",
       "    <tr>\n",
       "      <th>2019</th>\n",
       "      <td>2019</td>\n",
       "      <td>8.347350e+06</td>\n",
       "    </tr>\n",
       "    <tr>\n",
       "      <th>2020</th>\n",
       "      <td>2020</td>\n",
       "      <td>8.414481e+06</td>\n",
       "    </tr>\n",
       "    <tr>\n",
       "      <th>2021</th>\n",
       "      <td>2021</td>\n",
       "      <td>8.476874e+06</td>\n",
       "    </tr>\n",
       "    <tr>\n",
       "      <th>2022</th>\n",
       "      <td>2022</td>\n",
       "      <td>8.534303e+06</td>\n",
       "    </tr>\n",
       "  </tbody>\n",
       "</table>\n",
       "</div>"
      ],
      "text/plain": [
       "      Year         Value\n",
       "2018  2018  8.275708e+06\n",
       "2019  2019  8.347350e+06\n",
       "2020  2020  8.414481e+06\n",
       "2021  2021  8.476874e+06\n",
       "2022  2022  8.534303e+06"
      ]
     },
     "execution_count": 36,
     "metadata": {},
     "output_type": "execute_result"
    }
   ],
   "source": [
    "# Predicting a new result with Polymonial Regression\n",
    "d = []\n",
    "for year in [2018,2019,2020,2021,2022] :\n",
    "    prediction = pol_reg.predict(poly_reg.fit_transform([[year]]))\n",
    "    d.append(prediction[0][0])\n",
    "dicto = {'Year':[2018,2019,2020,2021,2022],'Value':d}\n",
    "cottonlint_predicted = pd.DataFrame(dicto,index=[2018,2019,2020,2021,2022])\n",
    "cottonlint_predicted.head()\n"
   ]
  },
  {
   "cell_type": "code",
   "execution_count": 37,
   "metadata": {},
   "outputs": [],
   "source": [
    "#b for cottonseed\n",
    "b_X = cottonseed.iloc[:, 0:1].values"
   ]
  },
  {
   "cell_type": "code",
   "execution_count": 38,
   "metadata": {},
   "outputs": [],
   "source": [
    "b_y = cottonseed.iloc[:, 1:].values"
   ]
  },
  {
   "cell_type": "code",
   "execution_count": 39,
   "metadata": {},
   "outputs": [
    {
     "name": "stdout",
     "output_type": "stream",
     "text": [
      "The model performance for the training set\n",
      "-------------------------------------------\n",
      "RMSE of training set is 645858.2763031892\n",
      "R2 score of training set is 0.9847573780426592\n",
      "\n",
      "\n",
      "The model performance for the test set\n",
      "-------------------------------------------\n",
      "RMSE of test set is 1187007.1395312978\n",
      "R2 score of test set is 0.9574348675802818\n"
     ]
    }
   ],
   "source": [
    "def create_polynomial_regression_model(degree):\n",
    "  \"Creates a polynomial regression model for the given degree\"\n",
    "  \n",
    "  poly_features = PolynomialFeatures(degree=degree)\n",
    "  \n",
    "  # transforms the existing features to higher degree features.\n",
    "  X_train_poly = poly_features.fit_transform(b_X_train)\n",
    "  \n",
    "  # fit the transformed features to Linear Regression\n",
    "  poly_model = LinearRegression()\n",
    "  poly_model.fit(X_train_poly, b_y_train)\n",
    "  \n",
    "  # predicting on training data-set\n",
    "  y_train_predicted = poly_model.predict(X_train_poly)\n",
    "  \n",
    "  # predicting on test data-set\n",
    "  y_test_predict = poly_model.predict(poly_features.fit_transform(b_X_test))\n",
    "  \n",
    "  # evaluating the model on training dataset\n",
    "  rmse_train = np.sqrt(mean_squared_error(b_y_train, y_train_predicted))\n",
    "  r2_train = r2_score(b_y_train, y_train_predicted)\n",
    "  \n",
    "  # evaluating the model on test dataset\n",
    "  rmse_test = np.sqrt(mean_squared_error(b_y_test, y_test_predict))\n",
    "  r2_test = r2_score(b_y_test, y_test_predict)\n",
    "  \n",
    "  print(\"The model performance for the training set\")\n",
    "  print(\"-------------------------------------------\")\n",
    "  print(\"RMSE of training set is {}\".format(rmse_train))\n",
    "  print(\"R2 score of training set is {}\".format(r2_train))\n",
    "  \n",
    "  print(\"\\n\")\n",
    "  \n",
    "  print(\"The model performance for the test set\")\n",
    "  print(\"-------------------------------------------\")\n",
    "  print(\"RMSE of test set is {}\".format(rmse_test))\n",
    "  print(\"R2 score of test set is {}\".format(r2_test))\n",
    "    \n",
    "create_polynomial_regression_model(4)"
   ]
  },
  {
   "cell_type": "code",
   "execution_count": 40,
   "metadata": {},
   "outputs": [
    {
     "data": {
      "image/png": "[encoded data removed]",
      "text/plain": [
       "<Figure size 432x288 with 1 Axes>"
      ]
     },
     "metadata": {
      "needs_background": "light"
     },
     "output_type": "display_data"
    }
   ],
   "source": [
    "poly_reg = PolynomialFeatures(degree=4)\n",
    "X_poly = poly_reg.fit_transform(b_X)\n",
    "pol_reg = LinearRegression()\n",
    "pol_reg.fit(X_poly, b_y)\n",
    "\n",
    "# Visualizing the Polymonial Regression results\n",
    "def viz_polymonial():\n",
    "    plt.scatter(b_X, b_y, color='red')\n",
    "    plt.plot(b_X, pol_reg.predict(poly_reg.fit_transform(b_X)), color='blue')\n",
    "    plt.title('Cottonseed (Polynomial Regression)')\n",
    "    plt.xlabel('Year')\n",
    "    plt.ylabel('Value')\n",
    "    plt.show()\n",
    "    return\n",
    "viz_polymonial()"
   ]
  },
  {
   "cell_type": "code",
   "execution_count": 41,
   "metadata": {},
   "outputs": [
    {
     "data": {
      "text/html": [
       "<div>\n",
       "<style scoped>\n",
       "    .dataframe tbody tr th:only-of-type {\n",
       "        vertical-align: middle;\n",
       "    }\n",
       "\n",
       "    .dataframe tbody tr th {\n",
       "        vertical-align: top;\n",
       "    }\n",
       "\n",
       "    .dataframe thead th {\n",
       "        text-align: right;\n",
       "    }\n",
       "</style>\n",
       "<table border=\"1\" class=\"dataframe\">\n",
       "  <thead>\n",
       "    <tr style=\"text-align: right;\">\n",
       "      <th></th>\n",
       "      <th>Year</th>\n",
       "      <th>Value</th>\n",
       "    </tr>\n",
       "  </thead>\n",
       "  <tbody>\n",
       "    <tr>\n",
       "      <th>2018</th>\n",
       "      <td>2018</td>\n",
       "      <td>963227.284470</td>\n",
       "    </tr>\n",
       "    <tr>\n",
       "      <th>2019</th>\n",
       "      <td>2019</td>\n",
       "      <td>913091.743759</td>\n",
       "    </tr>\n",
       "    <tr>\n",
       "      <th>2020</th>\n",
       "      <td>2020</td>\n",
       "      <td>855854.317276</td>\n",
       "    </tr>\n",
       "    <tr>\n",
       "      <th>2021</th>\n",
       "      <td>2021</td>\n",
       "      <td>791244.741196</td>\n",
       "    </tr>\n",
       "    <tr>\n",
       "      <th>2022</th>\n",
       "      <td>2022</td>\n",
       "      <td>718992.360611</td>\n",
       "    </tr>\n",
       "  </tbody>\n",
       "</table>\n",
       "</div>"
      ],
      "text/plain": [
       "      Year          Value\n",
       "2018  2018  963227.284470\n",
       "2019  2019  913091.743759\n",
       "2020  2020  855854.317276\n",
       "2021  2021  791244.741196\n",
       "2022  2022  718992.360611"
      ]
     },
     "execution_count": 41,
     "metadata": {},
     "output_type": "execute_result"
    }
   ],
   "source": [
    "# Predicting a new result with Polymonial Regression\n",
    "d = []\n",
    "for year in [2018,2019,2020,2021,2022] :\n",
    "    prediction = pol_reg.predict(poly_reg.fit_transform([[year]]))\n",
    "    d.append(prediction[0][0])\n",
    "dicto = {'Year':[2018,2019,2020,2021,2022],'Value':d}\n",
    "cottonseed_predicted = pd.DataFrame(dicto,index=[2018,2019,2020,2021,2022])\n",
    "cottonseed_predicted.head()"
   ]
  },
  {
   "cell_type": "code",
   "execution_count": 42,
   "metadata": {},
   "outputs": [],
   "source": [
    "#b for rubber\n",
    "b_X = rubber.iloc[:, 0:1].values"
   ]
  },
  {
   "cell_type": "code",
   "execution_count": 43,
   "metadata": {},
   "outputs": [],
   "source": [
    "b_y = rubber.iloc[:, 1:].values"
   ]
  },
  {
   "cell_type": "code",
   "execution_count": 44,
   "metadata": {},
   "outputs": [
    {
     "name": "stdout",
     "output_type": "stream",
     "text": [
      "The model performance for the training set\n",
      "-------------------------------------------\n",
      "RMSE of training set is 645858.2763031892\n",
      "R2 score of training set is 0.9847573780426592\n",
      "\n",
      "\n",
      "The model performance for the test set\n",
      "-------------------------------------------\n",
      "RMSE of test set is 1187007.1395312978\n",
      "R2 score of test set is 0.9574348675802818\n"
     ]
    }
   ],
   "source": [
    "def create_polynomial_regression_model(degree):\n",
    "  \"Creates a polynomial regression model for the given degree\"\n",
    "  \n",
    "  poly_features = PolynomialFeatures(degree=degree)\n",
    "  \n",
    "  # transforms the existing features to higher degree features.\n",
    "  X_train_poly = poly_features.fit_transform(b_X_train)\n",
    "  \n",
    "  # fit the transformed features to Linear Regression\n",
    "  poly_model = LinearRegression()\n",
    "  poly_model.fit(X_train_poly, b_y_train)\n",
    "  \n",
    "  # predicting on training data-set\n",
    "  y_train_predicted = poly_model.predict(X_train_poly)\n",
    "  \n",
    "  # predicting on test data-set\n",
    "  y_test_predict = poly_model.predict(poly_features.fit_transform(b_X_test))\n",
    "  \n",
    "  # evaluating the model on training dataset\n",
    "  rmse_train = np.sqrt(mean_squared_error(b_y_train, y_train_predicted))\n",
    "  r2_train = r2_score(b_y_train, y_train_predicted)\n",
    "  \n",
    "  # evaluating the model on test dataset\n",
    "  rmse_test = np.sqrt(mean_squared_error(b_y_test, y_test_predict))\n",
    "  r2_test = r2_score(b_y_test, y_test_predict)\n",
    "  \n",
    "  print(\"The model performance for the training set\")\n",
    "  print(\"-------------------------------------------\")\n",
    "  print(\"RMSE of training set is {}\".format(rmse_train))\n",
    "  print(\"R2 score of training set is {}\".format(r2_train))\n",
    "  \n",
    "  print(\"\\n\")\n",
    "  \n",
    "  print(\"The model performance for the test set\")\n",
    "  print(\"-------------------------------------------\")\n",
    "  print(\"RMSE of test set is {}\".format(rmse_test))\n",
    "  print(\"R2 score of test set is {}\".format(r2_test))\n",
    "    \n",
    "create_polynomial_regression_model(4)"
   ]
  },
  {
   "cell_type": "code",
   "execution_count": 45,
   "metadata": {},
   "outputs": [
    {
     "data": {
      "image/png": "[encoded data removed]",
      "text/plain": [
       "<Figure size 432x288 with 1 Axes>"
      ]
     },
     "metadata": {
      "needs_background": "light"
     },
     "output_type": "display_data"
    }
   ],
   "source": [
    "poly_reg = PolynomialFeatures(degree=4)\n",
    "X_poly = poly_reg.fit_transform(b_X)\n",
    "pol_reg = LinearRegression()\n",
    "pol_reg.fit(X_poly, b_y)\n",
    "\n",
    "# Visualizing the Polymonial Regression results\n",
    "def viz_polymonial():\n",
    "    plt.scatter(b_X, b_y, color='red')\n",
    "    plt.plot(b_X, pol_reg.predict(poly_reg.fit_transform(b_X)), color='blue')\n",
    "    plt.title('Rubber (Polynomial Regression)')\n",
    "    plt.xlabel('Year')\n",
    "    plt.ylabel('Value')\n",
    "    plt.show()\n",
    "    return\n",
    "viz_polymonial()"
   ]
  },
  {
   "cell_type": "code",
   "execution_count": 46,
   "metadata": {},
   "outputs": [
    {
     "data": {
      "text/html": [
       "<div>\n",
       "<style scoped>\n",
       "    .dataframe tbody tr th:only-of-type {\n",
       "        vertical-align: middle;\n",
       "    }\n",
       "\n",
       "    .dataframe tbody tr th {\n",
       "        vertical-align: top;\n",
       "    }\n",
       "\n",
       "    .dataframe thead th {\n",
       "        text-align: right;\n",
       "    }\n",
       "</style>\n",
       "<table border=\"1\" class=\"dataframe\">\n",
       "  <thead>\n",
       "    <tr style=\"text-align: right;\">\n",
       "      <th></th>\n",
       "      <th>Year</th>\n",
       "      <th>Value</th>\n",
       "    </tr>\n",
       "  </thead>\n",
       "  <tbody>\n",
       "    <tr>\n",
       "      <th>2018</th>\n",
       "      <td>2018</td>\n",
       "      <td>1.315620e+06</td>\n",
       "    </tr>\n",
       "    <tr>\n",
       "      <th>2019</th>\n",
       "      <td>2019</td>\n",
       "      <td>1.340207e+06</td>\n",
       "    </tr>\n",
       "    <tr>\n",
       "      <th>2020</th>\n",
       "      <td>2020</td>\n",
       "      <td>1.363631e+06</td>\n",
       "    </tr>\n",
       "    <tr>\n",
       "      <th>2021</th>\n",
       "      <td>2021</td>\n",
       "      <td>1.385818e+06</td>\n",
       "    </tr>\n",
       "    <tr>\n",
       "      <th>2022</th>\n",
       "      <td>2022</td>\n",
       "      <td>1.406698e+06</td>\n",
       "    </tr>\n",
       "  </tbody>\n",
       "</table>\n",
       "</div>"
      ],
      "text/plain": [
       "      Year         Value\n",
       "2018  2018  1.315620e+06\n",
       "2019  2019  1.340207e+06\n",
       "2020  2020  1.363631e+06\n",
       "2021  2021  1.385818e+06\n",
       "2022  2022  1.406698e+06"
      ]
     },
     "execution_count": 46,
     "metadata": {},
     "output_type": "execute_result"
    }
   ],
   "source": [
    "# Predicting a new result with Polymonial Regression\n",
    "d = []\n",
    "for year in [2018,2019,2020,2021,2022] :\n",
    "    prediction = pol_reg.predict(poly_reg.fit_transform([[year]]))\n",
    "    d.append(prediction[0][0])\n",
    "dicto = {'Year':[2018,2019,2020,2021,2022],'Value':d}\n",
    "rubber_predicted = pd.DataFrame(dicto,index=[2018,2019,2020,2021,2022])\n",
    "rubber_predicted.head()"
   ]
  },
  {
   "cell_type": "code",
   "execution_count": 47,
   "metadata": {},
   "outputs": [],
   "source": [
    "#b for palmoil\n",
    "b_X = palmoil.iloc[:, 0:1].values"
   ]
  },
  {
   "cell_type": "code",
   "execution_count": 48,
   "metadata": {},
   "outputs": [],
   "source": [
    "b_y = palmoil.iloc[:, 1:].values"
   ]
  },
  {
   "cell_type": "code",
   "execution_count": 49,
   "metadata": {},
   "outputs": [
    {
     "name": "stdout",
     "output_type": "stream",
     "text": [
      "The model performance for the training set\n",
      "-------------------------------------------\n",
      "RMSE of training set is 645858.2763031892\n",
      "R2 score of training set is 0.9847573780426592\n",
      "\n",
      "\n",
      "The model performance for the test set\n",
      "-------------------------------------------\n",
      "RMSE of test set is 1187007.1395312978\n",
      "R2 score of test set is 0.9574348675802818\n"
     ]
    }
   ],
   "source": [
    "def create_polynomial_regression_model(degree):\n",
    "  \"Creates a polynomial regression model for the given degree\"\n",
    "  \n",
    "  poly_features = PolynomialFeatures(degree=degree)\n",
    "  \n",
    "  # transforms the existing features to higher degree features.\n",
    "  X_train_poly = poly_features.fit_transform(b_X_train)\n",
    "  \n",
    "  # fit the transformed features to Linear Regression\n",
    "  poly_model = LinearRegression()\n",
    "  poly_model.fit(X_train_poly, b_y_train)\n",
    "  \n",
    "  # predicting on training data-set\n",
    "  y_train_predicted = poly_model.predict(X_train_poly)\n",
    "  \n",
    "  # predicting on test data-set\n",
    "  y_test_predict = poly_model.predict(poly_features.fit_transform(b_X_test))\n",
    "  \n",
    "  # evaluating the model on training dataset\n",
    "  rmse_train = np.sqrt(mean_squared_error(b_y_train, y_train_predicted))\n",
    "  r2_train = r2_score(b_y_train, y_train_predicted)\n",
    "  \n",
    "  # evaluating the model on test dataset\n",
    "  rmse_test = np.sqrt(mean_squared_error(b_y_test, y_test_predict))\n",
    "  r2_test = r2_score(b_y_test, y_test_predict)\n",
    "  \n",
    "  print(\"The model performance for the training set\")\n",
    "  print(\"-------------------------------------------\")\n",
    "  print(\"RMSE of training set is {}\".format(rmse_train))\n",
    "  print(\"R2 score of training set is {}\".format(r2_train))\n",
    "  \n",
    "  print(\"\\n\")\n",
    "  \n",
    "  print(\"The model performance for the test set\")\n",
    "  print(\"-------------------------------------------\")\n",
    "  print(\"RMSE of test set is {}\".format(rmse_test))\n",
    "  print(\"R2 score of test set is {}\".format(r2_test))\n",
    "    \n",
    "create_polynomial_regression_model(4)"
   ]
  },
  {
   "cell_type": "code",
   "execution_count": 50,
   "metadata": {},
   "outputs": [
    {
     "data": {
      "image/png": "[encoded data removed]",
      "text/plain": [
       "<Figure size 432x288 with 1 Axes>"
      ]
     },
     "metadata": {
      "needs_background": "light"
     },
     "output_type": "display_data"
    }
   ],
   "source": [
    "poly_reg = PolynomialFeatures(degree=4)\n",
    "X_poly = poly_reg.fit_transform(b_X)\n",
    "pol_reg = LinearRegression()\n",
    "pol_reg.fit(X_poly, b_y)\n",
    "\n",
    "# Visualizing the Polymonial Regression results\n",
    "def viz_polymonial():\n",
    "    plt.scatter(b_X, b_y, color='red')\n",
    "    plt.plot(b_X, pol_reg.predict(poly_reg.fit_transform(b_X)), color='blue')\n",
    "    plt.title('Palmoil (Polynomial Regression)')\n",
    "    plt.xlabel('Year')\n",
    "    plt.ylabel('Value')\n",
    "    plt.show()\n",
    "    return\n",
    "viz_polymonial()"
   ]
  },
  {
   "cell_type": "code",
   "execution_count": 51,
   "metadata": {},
   "outputs": [
    {
     "data": {
      "text/html": [
       "<div>\n",
       "<style scoped>\n",
       "    .dataframe tbody tr th:only-of-type {\n",
       "        vertical-align: middle;\n",
       "    }\n",
       "\n",
       "    .dataframe tbody tr th {\n",
       "        vertical-align: top;\n",
       "    }\n",
       "\n",
       "    .dataframe thead th {\n",
       "        text-align: right;\n",
       "    }\n",
       "</style>\n",
       "<table border=\"1\" class=\"dataframe\">\n",
       "  <thead>\n",
       "    <tr style=\"text-align: right;\">\n",
       "      <th></th>\n",
       "      <th>Year</th>\n",
       "      <th>Value</th>\n",
       "    </tr>\n",
       "  </thead>\n",
       "  <tbody>\n",
       "    <tr>\n",
       "      <th>2018</th>\n",
       "      <td>2018</td>\n",
       "      <td>5.396488e+07</td>\n",
       "    </tr>\n",
       "    <tr>\n",
       "      <th>2019</th>\n",
       "      <td>2019</td>\n",
       "      <td>5.705658e+07</td>\n",
       "    </tr>\n",
       "    <tr>\n",
       "      <th>2020</th>\n",
       "      <td>2020</td>\n",
       "      <td>6.026938e+07</td>\n",
       "    </tr>\n",
       "    <tr>\n",
       "      <th>2021</th>\n",
       "      <td>2021</td>\n",
       "      <td>6.360570e+07</td>\n",
       "    </tr>\n",
       "    <tr>\n",
       "      <th>2022</th>\n",
       "      <td>2022</td>\n",
       "      <td>6.706798e+07</td>\n",
       "    </tr>\n",
       "  </tbody>\n",
       "</table>\n",
       "</div>"
      ],
      "text/plain": [
       "      Year         Value\n",
       "2018  2018  5.396488e+07\n",
       "2019  2019  5.705658e+07\n",
       "2020  2020  6.026938e+07\n",
       "2021  2021  6.360570e+07\n",
       "2022  2022  6.706798e+07"
      ]
     },
     "execution_count": 51,
     "metadata": {},
     "output_type": "execute_result"
    }
   ],
   "source": [
    "# Predicting a new result with Polymonial Regression\n",
    "d = []\n",
    "for year in [2018,2019,2020,2021,2022] :\n",
    "    prediction = pol_reg.predict(poly_reg.fit_transform([[year]]))\n",
    "    d.append(prediction[0][0])\n",
    "dicto = {'Year':[2018,2019,2020,2021,2022],'Value':d}\n",
    "palmoil_predicted = pd.DataFrame(dicto,index=[2018,2019,2020,2021,2022])\n",
    "palmoil_predicted.head()"
   ]
  },
  {
   "cell_type": "code",
   "execution_count": 52,
   "metadata": {},
   "outputs": [],
   "source": [
    "#b for greencoffee\n",
    "b_X = greencoffee.iloc[:, 0:1].values"
   ]
  },
  {
   "cell_type": "code",
   "execution_count": 53,
   "metadata": {},
   "outputs": [],
   "source": [
    "b_y = greencoffee.iloc[:, 1:].values"
   ]
  },
  {
   "cell_type": "code",
   "execution_count": 54,
   "metadata": {},
   "outputs": [
    {
     "name": "stdout",
     "output_type": "stream",
     "text": [
      "The model performance for the training set\n",
      "-------------------------------------------\n",
      "RMSE of training set is 645858.2763031892\n",
      "R2 score of training set is 0.9847573780426592\n",
      "\n",
      "\n",
      "The model performance for the test set\n",
      "-------------------------------------------\n",
      "RMSE of test set is 1187007.1395312978\n",
      "R2 score of test set is 0.9574348675802818\n"
     ]
    }
   ],
   "source": [
    "def create_polynomial_regression_model(degree):\n",
    "  \"Creates a polynomial regression model for the given degree\"\n",
    "  \n",
    "  poly_features = PolynomialFeatures(degree=degree)\n",
    "  \n",
    "  # transforms the existing features to higher degree features.\n",
    "  X_train_poly = poly_features.fit_transform(b_X_train)\n",
    "  \n",
    "  # fit the transformed features to Linear Regression\n",
    "  poly_model = LinearRegression()\n",
    "  poly_model.fit(X_train_poly, b_y_train)\n",
    "  \n",
    "  # predicting on training data-set\n",
    "  y_train_predicted = poly_model.predict(X_train_poly)\n",
    "  \n",
    "  # predicting on test data-set\n",
    "  y_test_predict = poly_model.predict(poly_features.fit_transform(b_X_test))\n",
    "  \n",
    "  # evaluating the model on training dataset\n",
    "  rmse_train = np.sqrt(mean_squared_error(b_y_train, y_train_predicted))\n",
    "  r2_train = r2_score(b_y_train, y_train_predicted)\n",
    "  \n",
    "  # evaluating the model on test dataset\n",
    "  rmse_test = np.sqrt(mean_squared_error(b_y_test, y_test_predict))\n",
    "  r2_test = r2_score(b_y_test, y_test_predict)\n",
    "  \n",
    "  print(\"The model performance for the training set\")\n",
    "  print(\"-------------------------------------------\")\n",
    "  print(\"RMSE of training set is {}\".format(rmse_train))\n",
    "  print(\"R2 score of training set is {}\".format(r2_train))\n",
    "  \n",
    "  print(\"\\n\")\n",
    "  \n",
    "  print(\"The model performance for the test set\")\n",
    "  print(\"-------------------------------------------\")\n",
    "  print(\"RMSE of test set is {}\".format(rmse_test))\n",
    "  print(\"R2 score of test set is {}\".format(r2_test))\n",
    "    \n",
    "create_polynomial_regression_model(4)"
   ]
  },
  {
   "cell_type": "code",
   "execution_count": 55,
   "metadata": {},
   "outputs": [
    {
     "data": {
      "image/png": "[encoded data removed]",
      "text/plain": [
       "<Figure size 432x288 with 1 Axes>"
      ]
     },
     "metadata": {
      "needs_background": "light"
     },
     "output_type": "display_data"
    }
   ],
   "source": [
    "poly_reg = PolynomialFeatures(degree=4)\n",
    "X_poly = poly_reg.fit_transform(b_X)\n",
    "pol_reg = LinearRegression()\n",
    "pol_reg.fit(X_poly, b_y)\n",
    "\n",
    "# Visualizing the Polymonial Regression results\n",
    "def viz_polymonial():\n",
    "    plt.scatter(b_X, b_y, color='red')\n",
    "    plt.plot(b_X, pol_reg.predict(poly_reg.fit_transform(b_X)), color='blue')\n",
    "    plt.title('Greencoffee(Polynomial Regression)')\n",
    "    plt.xlabel('Year')\n",
    "    plt.ylabel('Value')\n",
    "    plt.show()\n",
    "    return\n",
    "viz_polymonial()"
   ]
  },
  {
   "cell_type": "code",
   "execution_count": 56,
   "metadata": {},
   "outputs": [
    {
     "data": {
      "text/html": [
       "<div>\n",
       "<style scoped>\n",
       "    .dataframe tbody tr th:only-of-type {\n",
       "        vertical-align: middle;\n",
       "    }\n",
       "\n",
       "    .dataframe tbody tr th {\n",
       "        vertical-align: top;\n",
       "    }\n",
       "\n",
       "    .dataframe thead th {\n",
       "        text-align: right;\n",
       "    }\n",
       "</style>\n",
       "<table border=\"1\" class=\"dataframe\">\n",
       "  <thead>\n",
       "    <tr style=\"text-align: right;\">\n",
       "      <th></th>\n",
       "      <th>Year</th>\n",
       "      <th>Value</th>\n",
       "    </tr>\n",
       "  </thead>\n",
       "  <tbody>\n",
       "    <tr>\n",
       "      <th>2018</th>\n",
       "      <td>2018</td>\n",
       "      <td>7.445746e+06</td>\n",
       "    </tr>\n",
       "    <tr>\n",
       "      <th>2019</th>\n",
       "      <td>2019</td>\n",
       "      <td>7.621103e+06</td>\n",
       "    </tr>\n",
       "    <tr>\n",
       "      <th>2020</th>\n",
       "      <td>2020</td>\n",
       "      <td>7.802292e+06</td>\n",
       "    </tr>\n",
       "    <tr>\n",
       "      <th>2021</th>\n",
       "      <td>2021</td>\n",
       "      <td>7.989449e+06</td>\n",
       "    </tr>\n",
       "    <tr>\n",
       "      <th>2022</th>\n",
       "      <td>2022</td>\n",
       "      <td>8.182711e+06</td>\n",
       "    </tr>\n",
       "  </tbody>\n",
       "</table>\n",
       "</div>"
      ],
      "text/plain": [
       "      Year         Value\n",
       "2018  2018  7.445746e+06\n",
       "2019  2019  7.621103e+06\n",
       "2020  2020  7.802292e+06\n",
       "2021  2021  7.989449e+06\n",
       "2022  2022  8.182711e+06"
      ]
     },
     "execution_count": 56,
     "metadata": {},
     "output_type": "execute_result"
    }
   ],
   "source": [
    "# Predicting a new result with Polymonial Regression\n",
    "d = []\n",
    "for year in [2018,2019,2020,2021,2022] :\n",
    "    prediction = pol_reg.predict(poly_reg.fit_transform([[year]]))\n",
    "    d.append(prediction[0][0])\n",
    "dicto = {'Year':[2018,2019,2020,2021,2022],'Value':d}\n",
    "greencoffee_predicted = pd.DataFrame(dicto,index=[2018,2019,2020,2021,2022])\n",
    "greencoffee_predicted.head()"
   ]
  },
  {
   "cell_type": "code",
   "execution_count": 57,
   "metadata": {},
   "outputs": [],
   "source": [
    "#b for cocoabeans\n",
    "b_X = cocoabeans.iloc[:, 0:1].values"
   ]
  },
  {
   "cell_type": "code",
   "execution_count": 58,
   "metadata": {},
   "outputs": [],
   "source": [
    "b_y = cocoabeans.iloc[:, 1:].values"
   ]
  },
  {
   "cell_type": "code",
   "execution_count": 59,
   "metadata": {},
   "outputs": [
    {
     "name": "stdout",
     "output_type": "stream",
     "text": [
      "The model performance for the training set\n",
      "-------------------------------------------\n",
      "RMSE of training set is 645858.2763031892\n",
      "R2 score of training set is 0.9847573780426592\n",
      "\n",
      "\n",
      "The model performance for the test set\n",
      "-------------------------------------------\n",
      "RMSE of test set is 1187007.1395312978\n",
      "R2 score of test set is 0.9574348675802818\n"
     ]
    }
   ],
   "source": [
    "def create_polynomial_regression_model(degree):\n",
    "  \"Creates a polynomial regression model for the given degree\"\n",
    "  \n",
    "  poly_features = PolynomialFeatures(degree=degree)\n",
    "  \n",
    "  # transforms the existing features to higher degree features.\n",
    "  X_train_poly = poly_features.fit_transform(b_X_train)\n",
    "  \n",
    "  # fit the transformed features to Linear Regression\n",
    "  poly_model = LinearRegression()\n",
    "  poly_model.fit(X_train_poly, b_y_train)\n",
    "  \n",
    "  # predicting on training data-set\n",
    "  y_train_predicted = poly_model.predict(X_train_poly)\n",
    "  \n",
    "  # predicting on test data-set\n",
    "  y_test_predict = poly_model.predict(poly_features.fit_transform(b_X_test))\n",
    "  \n",
    "  # evaluating the model on training dataset\n",
    "  rmse_train = np.sqrt(mean_squared_error(b_y_train, y_train_predicted))\n",
    "  r2_train = r2_score(b_y_train, y_train_predicted)\n",
    "  \n",
    "  # evaluating the model on test dataset\n",
    "  rmse_test = np.sqrt(mean_squared_error(b_y_test, y_test_predict))\n",
    "  r2_test = r2_score(b_y_test, y_test_predict)\n",
    "  \n",
    "  print(\"The model performance for the training set\")\n",
    "  print(\"-------------------------------------------\")\n",
    "  print(\"RMSE of training set is {}\".format(rmse_train))\n",
    "  print(\"R2 score of training set is {}\".format(r2_train))\n",
    "  \n",
    "  print(\"\\n\")\n",
    "  \n",
    "  print(\"The model performance for the test set\")\n",
    "  print(\"-------------------------------------------\")\n",
    "  print(\"RMSE of test set is {}\".format(rmse_test))\n",
    "  print(\"R2 score of test set is {}\".format(r2_test))\n",
    "    \n",
    "create_polynomial_regression_model(4)"
   ]
  },
  {
   "cell_type": "code",
   "execution_count": 60,
   "metadata": {},
   "outputs": [
    {
     "data": {
      "image/png": "[encoded data removed]",
      "text/plain": [
       "<Figure size 432x288 with 1 Axes>"
      ]
     },
     "metadata": {
      "needs_background": "light"
     },
     "output_type": "display_data"
    }
   ],
   "source": [
    "poly_reg = PolynomialFeatures(degree=4)\n",
    "X_poly = poly_reg.fit_transform(b_X)\n",
    "pol_reg = LinearRegression()\n",
    "pol_reg.fit(X_poly, b_y)\n",
    "\n",
    "# Visualizing the Polymonial Regression results\n",
    "def viz_polymonial():\n",
    "    plt.scatter(b_X, b_y, color='red')\n",
    "    plt.plot(b_X, pol_reg.predict(poly_reg.fit_transform(b_X)), color='blue')\n",
    "    plt.title('Cocoabeans(Polynomial Regression)')\n",
    "    plt.xlabel('Year')\n",
    "    plt.ylabel('Value')\n",
    "    plt.show()\n",
    "    return\n",
    "viz_polymonial()"
   ]
  },
  {
   "cell_type": "code",
   "execution_count": 61,
   "metadata": {},
   "outputs": [
    {
     "data": {
      "text/html": [
       "<div>\n",
       "<style scoped>\n",
       "    .dataframe tbody tr th:only-of-type {\n",
       "        vertical-align: middle;\n",
       "    }\n",
       "\n",
       "    .dataframe tbody tr th {\n",
       "        vertical-align: top;\n",
       "    }\n",
       "\n",
       "    .dataframe thead th {\n",
       "        text-align: right;\n",
       "    }\n",
       "</style>\n",
       "<table border=\"1\" class=\"dataframe\">\n",
       "  <thead>\n",
       "    <tr style=\"text-align: right;\">\n",
       "      <th></th>\n",
       "      <th>Year</th>\n",
       "      <th>Value</th>\n",
       "    </tr>\n",
       "  </thead>\n",
       "  <tbody>\n",
       "    <tr>\n",
       "      <th>2018</th>\n",
       "      <td>2018</td>\n",
       "      <td>3.519584e+06</td>\n",
       "    </tr>\n",
       "    <tr>\n",
       "      <th>2019</th>\n",
       "      <td>2019</td>\n",
       "      <td>3.565734e+06</td>\n",
       "    </tr>\n",
       "    <tr>\n",
       "      <th>2020</th>\n",
       "      <td>2020</td>\n",
       "      <td>3.609137e+06</td>\n",
       "    </tr>\n",
       "    <tr>\n",
       "      <th>2021</th>\n",
       "      <td>2021</td>\n",
       "      <td>3.649639e+06</td>\n",
       "    </tr>\n",
       "    <tr>\n",
       "      <th>2022</th>\n",
       "      <td>2022</td>\n",
       "      <td>3.687087e+06</td>\n",
       "    </tr>\n",
       "  </tbody>\n",
       "</table>\n",
       "</div>"
      ],
      "text/plain": [
       "      Year         Value\n",
       "2018  2018  3.519584e+06\n",
       "2019  2019  3.565734e+06\n",
       "2020  2020  3.609137e+06\n",
       "2021  2021  3.649639e+06\n",
       "2022  2022  3.687087e+06"
      ]
     },
     "execution_count": 61,
     "metadata": {},
     "output_type": "execute_result"
    }
   ],
   "source": [
    "# Predicting a new result with Polymonial Regression\n",
    "d = []\n",
    "for year in [2018,2019,2020,2021,2022] :\n",
    "    prediction = pol_reg.predict(poly_reg.fit_transform([[year]]))\n",
    "    d.append(prediction[0][0])\n",
    "dicto = {'Year':[2018,2019,2020,2021,2022],'Value':d}\n",
    "cocoabeans_predicted = pd.DataFrame(dicto,index=[2018,2019,2020,2021,2022])\n",
    "cocoabeans_predicted.head()"
   ]
  },
  {
   "cell_type": "code",
   "execution_count": 68,
   "metadata": {},
   "outputs": [
    {
     "data": {
      "text/plain": [
       "Text(0, 0.5, 'Value')"
      ]
     },
     "execution_count": 68,
     "metadata": {},
     "output_type": "execute_result"
    },
    {
     "data": {
      "image/png": "[encoded data removed]",
      "text/plain": [
       "<Figure size 432x288 with 1 Axes>"
      ]
     },
     "metadata": {
      "needs_background": "light"
     },
     "output_type": "display_data"
    }
   ],
   "source": [
    "'''bananas_predicted = bananas_predicted.set_index('Year')\n",
    "cottonlint_predicted = cottonlint_predicted.set_index('Year')\n",
    "cottonseed_predicted = cottonseed_predicted.set_index('Year')\n",
    "rubber_predicted = rubber_predicted.set_index('Year')\n",
    "palmoil_predicted = palmoil_predicted.set_index('Year')\n",
    "greencoffee_predicted = greencoffee_predicted.set_index('Year')\n",
    "cocoabeans_predicted = cocoabeans_predicted.set_index('Year')'''\n",
    "\n",
    "bananas_predicted['Value'].plot(label=\"bananas\")\n",
    "cottonlint_predicted['Value'].plot(linewidth = 1.5,color = 'green',label=\"cottonlint\")\n",
    "cottonseed_predicted['Value'].plot(linewidth = 1.5,color = 'red',label=\"cottonseed\")\n",
    "rubber_predicted['Value'].plot(linewidth = 1.5,color = 'yellow',label=\"rubber\")\n",
    "palmoil_predicted['Value'].plot(linewidth = 1.5,color = 'black',label=\"palmoil\")\n",
    "greencoffee_predicted['Value'].plot(linewidth = 1.5,color = 'orange',label=\"greencoffee\")\n",
    "cocoabeans_predicted['Value'].plot(linewidth = 1.5,color = 'pink',label=\"cocoabeans\")\n",
    "\n",
    "plt.legend(loc=2,ncol=2)\n",
    "plt.title(\"Plot of various products predictions\")\n",
    "plt.xlabel('Year')\n",
    "plt.ylabel('Value')"
   ]
  },
  {
   "cell_type": "code",
   "execution_count": null,
   "metadata": {},
   "outputs": [],
   "source": []
  }
 ],
 "metadata": {
  "kernelspec": {
   "display_name": "Python 3",
   "language": "python",
   "name": "python3"
  },
  "language_info": {
   "codemirror_mode": {
    "name": "ipython",
    "version": 3
   },
   "file_extension": ".py",
   "mimetype": "text/x-python",
   "name": "python",
   "nbconvert_exporter": "python",
   "pygments_lexer": "ipython3",
   "version": "3.7.6"
  }
 },
 "nbformat": 4,
 "nbformat_minor": 4
}
